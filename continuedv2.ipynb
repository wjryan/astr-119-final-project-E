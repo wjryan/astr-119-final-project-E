{
 "cells": [
  {
   "cell_type": "code",
   "execution_count": null,
   "metadata": {
    "scrolled": true
   },
   "outputs": [],
   "source": [
    "%matplotlib inline\n",
    "import matplotlib.pyplot as plt\n",
    "import numpy as np"
   ]
  },
  {
   "cell_type": "code",
   "execution_count": null,
   "metadata": {},
   "outputs": [],
   "source": [
    "# 1 I need to  evolve x_n for some number of iterations N.\n",
    "# 2 this needs to be done with the initial conditions x_0 = 0.5, r = [0.7,1.00, .01] and n = [0,100] \n",
    "# 3 I need to be able to record all values of x_n and plot them  for each different value of r (x_n vs r graph)\n",
    "# 4 I need to compute the lyaponov exponenet for rach map and plot it as a blue line as a function of r (lambda vs r graph)\n"
   ]
  },
  {
   "cell_type": "code",
   "execution_count": null,
   "metadata": {},
   "outputs": [],
   "source": [
    "# 1 I need to  evolve x_n for some number of iterations N.\n",
    "\n",
    "#x_npo = 4rx_n(1-x_n) this is a reiteritive scheme\n",
    "\n",
    "#x_0 = 0.5\n",
    "#r = np.arange(0.7,1.00,.01)\n",
    "#n = np.arange(101)\n",
    "\n",
    "\n",
    "\n",
    "def x_npoFunction(x_0, r, n):\n",
    "    \n",
    "    #r = np.arange(0.7,1.00,.01)\n",
    "    \n",
    "    a = []\n",
    "    \n",
    "    i = 0\n",
    "    \n",
    "    while(i<n+2):\n",
    "        if(i==0):\n",
    "            x_npo = 4*r*x_0*(1 - x_0)\n",
    "            x_n = x_npo\n",
    "            a.append(x_n)\n",
    "            i += 1\n",
    "\n",
    "        elif(i<n+1):\n",
    "            x_npo = 4*r*x_n*(1 - x_n)\n",
    "            x_n = x_npo\n",
    "            a.append(x_n)\n",
    "            i += 1\n",
    "            \n",
    "        elif(i>=n+1):\n",
    "            i+=1\n",
    "             \n",
    "    return(a)"
   ]
  },
  {
   "cell_type": "code",
   "execution_count": null,
   "metadata": {},
   "outputs": [],
   "source": [
    "#x_0 = 0.5\n",
    "#r = 0.7\n",
    "#n = 100\n",
    "\n",
    "#r = np.arange(0.7,1.00,.01)\n",
    "#n = np.arange(101)\n",
    "\n",
    "x_npoFunction(0.65,0.7,100)"
   ]
  },
  {
   "cell_type": "code",
   "execution_count": null,
   "metadata": {
    "scrolled": false
   },
   "outputs": [],
   "source": [
    "plt.plot(x_npoFunction(0.5,0.7,100))"
   ]
  },
  {
   "cell_type": "code",
   "execution_count": null,
   "metadata": {},
   "outputs": [],
   "source": [
    "def Array_Of_Xn_Values_at_different_R(r_i,r_n,z):\n",
    "\n",
    "    r = np.arange(r_i,r_n,z)\n",
    "    b = []\n",
    "    i = 0\n",
    "    \n",
    "    while(i<len(r)):\n",
    "        a = x_npoFunction(0.5, r[i] ,100)\n",
    "        b.append(a)\n",
    "        i += 1\n",
    "        \n",
    "        \n",
    "    return b"
   ]
  },
  {
   "cell_type": "code",
   "execution_count": null,
   "metadata": {},
   "outputs": [],
   "source": [
    "Array_Of_Xn_Values_at_different_R(0.7,1.00,0.01)"
   ]
  },
  {
   "cell_type": "code",
   "execution_count": null,
   "metadata": {
    "scrolled": false
   },
   "outputs": [],
   "source": [
    "b = Array_Of_Xn_Values_at_different_R(.7,1.0,0.01)\n",
    "fig = plt.figure(figsize=(7,7))\n",
    "plt.ylim([0,1])\n",
    "plt.xlim([0,30])\n",
    "plt.plot(b[0:30])"
   ]
  },
  {
   "cell_type": "code",
   "execution_count": null,
   "metadata": {},
   "outputs": [],
   "source": []
  }
 ],
 "metadata": {
  "kernelspec": {
   "display_name": "Python 3",
   "language": "python",
   "name": "python3"
  },
  "language_info": {
   "codemirror_mode": {
    "name": "ipython",
    "version": 3
   },
   "file_extension": ".py",
   "mimetype": "text/x-python",
   "name": "python",
   "nbconvert_exporter": "python",
   "pygments_lexer": "ipython3",
   "version": "3.6.5"
  }
 },
 "nbformat": 4,
 "nbformat_minor": 2
}
