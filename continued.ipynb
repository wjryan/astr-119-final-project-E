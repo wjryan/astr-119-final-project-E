{
 "cells": [
  {
   "cell_type": "code",
   "execution_count": 4,
   "metadata": {},
   "outputs": [],
   "source": [
    "%matplotlib inline\n",
    "import matplotlib.pyplot as plt\n",
    "import numpy as np"
   ]
  },
  {
   "cell_type": "code",
   "execution_count": 5,
   "metadata": {},
   "outputs": [],
   "source": [
    "# 1 I need to  evolve x_n for some number of iterations N.\n",
    "# 2 this needs to be done with the initial conditions x_0 = 0.5, r = [0.7,1.00, .01] and n = [0,100] \n",
    "# 3 I need to be able to record all values of x_n and plot them  for each different value of r (x_n vs r graph)\n",
    "# 4 I need to compute the lyaponov exponenet for rach map and plot it as a blue line as a function of r (lambda vs r graph)\n"
   ]
  },
  {
   "cell_type": "code",
   "execution_count": 14,
   "metadata": {},
   "outputs": [],
   "source": [
    "# 1 I need to  evolve x_n for some number of iterations N.\n",
    "\n",
    "#x_npo = 4rx_n(1-x_n) this is a reiteritive scheme\n",
    "\n",
    "#x_0 = 0.5\n",
    "#r = np.arange(0.7,1.00,.01)\n",
    "#n = np.arange(101)\n",
    "\n",
    "\n",
    "\n",
    "def x_npoFunction(x_0, r, n):\n",
    "    \n",
    "    r = np.arange(0.7,1.00,.01)\n",
    "    \n",
    "    a = []\n",
    "    \n",
    "    i = 0\n",
    "    \n",
    "    while(i<n+2):\n",
    "        if(i==0):\n",
    "            x_npo = 4*r*x_0*(1 - x_0)\n",
    "            x_n = x_npo\n",
    "            a.append(x_n)\n",
    "            i += 1\n",
    "\n",
    "        elif(i<n+1):\n",
    "            x_npo = 4*r*x_n*(1 - x_n)\n",
    "            x_n = x_npo\n",
    "            a.append(x_n)\n",
    "            i += 1\n",
    "            \n",
    "        elif(i>=n+1):\n",
    "            i+=1\n",
    "            \n",
    "        \n",
    "            \n",
    "    return(a)"
   ]
  },
  {
   "cell_type": "code",
   "execution_count": 15,
   "metadata": {},
   "outputs": [
    {
     "data": {
      "text/plain": [
       "[0.7,\n",
       " 0.588,\n",
       " 0.6783168,\n",
       " 0.6109687327457278,\n",
       " 0.6655206329878602,\n",
       " 0.6232881761548346,\n",
       " 0.6574400717371606,\n",
       " 0.6305953466719136,\n",
       " 0.6522455951973996,\n",
       " 0.6350995804803706,\n",
       " 0.6488946893912779,\n",
       " 0.6379250401190096,\n",
       " 0.6467347132628748,\n",
       " 0.6397129869862533,\n",
       " 0.6453447875486611,\n",
       " 0.6408496996508167,\n",
       " 0.6444518139031691,\n",
       " 0.6415742856882357,\n",
       " 0.6438788205692243,\n",
       " 0.6420368779765051,\n",
       " 0.6435114708251246,\n",
       " 0.6423324816765063,\n",
       " 0.6432761010474596,\n",
       " 0.6425214848321867,\n",
       " 0.6431253538114405,\n",
       " 0.6426423726697799,\n",
       " 0.6430288298535798,\n",
       " 0.642719710726004,\n",
       " 0.6429670356768,\n",
       " 0.642769194787408,\n",
       " 0.6429274796553144,\n",
       " 0.6428008595662631,\n",
       " 0.6429021606199818,\n",
       " 0.6428211229723945,\n",
       " 0.6428859551321316,\n",
       " 0.6428340907127397,\n",
       " 0.6428755830847416,\n",
       " 0.6428423897229463,\n",
       " 0.6428689447550662,\n",
       " 0.6428477009488067,\n",
       " 0.6428646961341927,\n",
       " 0.6428511000757573,\n",
       " 0.6428619769800087,\n",
       " 0.6428532754934176,\n",
       " 0.6428602367062448,\n",
       " 0.6428546677510599,\n",
       " 0.6428591229248559,\n",
       " 0.6428555587919944,\n",
       " 0.6428584101022357,\n",
       " 0.6428561290565721,\n",
       " 0.6428579538947216,\n",
       " 0.642856494025238,\n",
       " 0.642857661921488,\n",
       " 0.6428567276049123,\n",
       " 0.6428574750584445,\n",
       " 0.6428568770957925,\n",
       " 0.6428573554660253,\n",
       " 0.6428569727699103,\n",
       " 0.6428572789268479,\n",
       " 0.642857034001327,\n",
       " 0.6428572299417623,\n",
       " 0.642857073189426,\n",
       " 0.6428571985913027,\n",
       " 0.6428570982698062,\n",
       " 0.6428571785270065,\n",
       " 0.6428571143212483,\n",
       " 0.6428571656858562,\n",
       " 0.6428571245941707,\n",
       " 0.6428571574675197,\n",
       " 0.6428571311688408,\n",
       " 0.642857152207784,\n",
       " 0.6428571353766296,\n",
       " 0.6428571488415532,\n",
       " 0.6428571380696144,\n",
       " 0.6428571466871655,\n",
       " 0.6428571397931246,\n",
       " 0.6428571453083574,\n",
       " 0.6428571408961712,\n",
       " 0.6428571444259201,\n",
       " 0.6428571416021209,\n",
       " 0.6428571438611603,\n",
       " 0.6428571420539289,\n",
       " 0.642857143499714,\n",
       " 0.6428571423430859,\n",
       " 0.6428571432683884,\n",
       " 0.6428571425281464,\n",
       " 0.6428571431203399,\n",
       " 0.6428571426465851,\n",
       " 0.6428571430255889,\n",
       " 0.6428571427223859,\n",
       " 0.6428571429649483,\n",
       " 0.6428571427708984,\n",
       " 0.6428571429261383,\n",
       " 0.6428571428019465,\n",
       " 0.6428571429012999,\n",
       " 0.6428571428218172,\n",
       " 0.6428571428854033,\n",
       " 0.6428571428345344,\n",
       " 0.6428571428752295,\n",
       " 0.6428571428426735,\n",
       " 0.6428571428687183]"
      ]
     },
     "execution_count": 15,
     "metadata": {},
     "output_type": "execute_result"
    }
   ],
   "source": [
    "#x_0 = 0.5\n",
    "#r = 0.7\n",
    "#n = 100\n",
    "\n",
    "#r = np.arange(0.7,1.00,.01)\n",
    "#n = np.arange(101)\n",
    "\n",
    "x_npoFunction(0.5,0.7,100)"
   ]
  },
  {
   "cell_type": "code",
   "execution_count": 16,
   "metadata": {},
   "outputs": [
    {
     "data": {
      "text/plain": [
       "[<matplotlib.lines.Line2D at 0x11f7356d8>]"
      ]
     },
     "execution_count": 16,
     "metadata": {},
     "output_type": "execute_result"
    },
    {
     "data": {
      "image/png": "[encoded data removed]",
      "text/plain": [
       "<Figure size 432x288 with 1 Axes>"
      ]
     },
     "metadata": {
      "needs_background": "light"
     },
     "output_type": "display_data"
    }
   ],
   "source": [
    "plt.plot(x_npoFunction(0.5,0.7,100))"
   ]
  },
  {
   "cell_type": "code",
   "execution_count": 25,
   "metadata": {},
   "outputs": [],
   "source": [
    "def Array_Of_Xn_Values_at_different_R(r):\n",
    "\n",
    "    r = np.arange(0.7,1.00,.01)\n",
    "    i = 0\n",
    "    b = []\n",
    "    print(len(r))\n",
    "    \n",
    "    while(len(r)>0):\n",
    "        a = x_npoFunction(0.5, r[0] ,100)\n",
    "        b.append(a)\n",
    "        r.pop(0)\n",
    "    \n",
    "    return b"
   ]
  },
  {
   "cell_type": "code",
   "execution_count": 26,
   "metadata": {},
   "outputs": [
    {
     "name": "stdout",
     "output_type": "stream",
     "text": [
      "31\n"
     ]
    },
    {
     "ename": "AttributeError",
     "evalue": "'numpy.ndarray' object has no attribute 'pop'",
     "output_type": "error",
     "traceback": [
      "\u001b[0;31m---------------------------------------------------------------------------\u001b[0m",
      "\u001b[0;31mAttributeError\u001b[0m                            Traceback (most recent call last)",
      "\u001b[0;32m<ipython-input-26-426501d4a510>\u001b[0m in \u001b[0;36m<module>\u001b[0;34m()\u001b[0m\n\u001b[0;32m----> 1\u001b[0;31m \u001b[0mArray_Of_Xn_Values_at_different_R\u001b[0m\u001b[0;34m(\u001b[0m\u001b[0mr\u001b[0m\u001b[0;34m)\u001b[0m\u001b[0;34m\u001b[0m\u001b[0m\n\u001b[0m",
      "\u001b[0;32m<ipython-input-25-42b15feccadc>\u001b[0m in \u001b[0;36mArray_Of_Xn_Values_at_different_R\u001b[0;34m(r)\u001b[0m\n\u001b[1;32m      9\u001b[0m         \u001b[0ma\u001b[0m \u001b[0;34m=\u001b[0m \u001b[0mx_npoFunction\u001b[0m\u001b[0;34m(\u001b[0m\u001b[0;36m0.5\u001b[0m\u001b[0;34m,\u001b[0m \u001b[0mr\u001b[0m\u001b[0;34m[\u001b[0m\u001b[0;36m0\u001b[0m\u001b[0;34m]\u001b[0m \u001b[0;34m,\u001b[0m\u001b[0;36m100\u001b[0m\u001b[0;34m)\u001b[0m\u001b[0;34m\u001b[0m\u001b[0m\n\u001b[1;32m     10\u001b[0m         \u001b[0mb\u001b[0m\u001b[0;34m.\u001b[0m\u001b[0mappend\u001b[0m\u001b[0;34m(\u001b[0m\u001b[0ma\u001b[0m\u001b[0;34m)\u001b[0m\u001b[0;34m\u001b[0m\u001b[0m\n\u001b[0;32m---> 11\u001b[0;31m         \u001b[0mr\u001b[0m\u001b[0;34m.\u001b[0m\u001b[0mpop\u001b[0m\u001b[0;34m(\u001b[0m\u001b[0;36m0\u001b[0m\u001b[0;34m)\u001b[0m\u001b[0;34m\u001b[0m\u001b[0m\n\u001b[0m\u001b[1;32m     12\u001b[0m \u001b[0;34m\u001b[0m\u001b[0m\n\u001b[1;32m     13\u001b[0m     \u001b[0;32mreturn\u001b[0m \u001b[0mb\u001b[0m\u001b[0;34m\u001b[0m\u001b[0m\n",
      "\u001b[0;31mAttributeError\u001b[0m: 'numpy.ndarray' object has no attribute 'pop'"
     ]
    }
   ],
   "source": [
    "Array_Of_Xn_Values_at_different_R(r)"
   ]
  },
  {
   "cell_type": "code",
   "execution_count": null,
   "metadata": {},
   "outputs": [],
   "source": []
  }
 ],
 "metadata": {
  "kernelspec": {
   "display_name": "Python 3",
   "language": "python",
   "name": "python3"
  },
  "language_info": {
   "codemirror_mode": {
    "name": "ipython",
    "version": 3
   },
   "file_extension": ".py",
   "mimetype": "text/x-python",
   "name": "python",
   "nbconvert_exporter": "python",
   "pygments_lexer": "ipython3",
   "version": "3.6.5"
  }
 },
 "nbformat": 4,
 "nbformat_minor": 2
}
